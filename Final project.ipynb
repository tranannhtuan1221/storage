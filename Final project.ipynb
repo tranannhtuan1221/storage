{
 "cells": [
  {
   "cell_type": "markdown",
   "metadata": {},
   "source": [
    "# Milestone 1: Project proposal\n",
    "\n",
    "## 1.Preparation\n",
    "\n",
    "* Dataset selected: SportsStats as it's much closer and more understandable than politic data (xD)\n",
    "\n",
    "\n",
    "* Import and clean data: i will use pandas in this project to work with SQL file"
   ]
  },
  {
   "cell_type": "code",
   "execution_count": 1,
   "metadata": {},
   "outputs": [],
   "source": [
    "import pandas as pd\n",
    "\n",
    "athlete_data = pd.read_csv('athlete_events.csv')\n",
    "noc_data = pd.read_csv('noc_regions.csv')"
   ]
  },
  {
   "cell_type": "markdown",
   "metadata": {},
   "source": [
    "* Initial data exploration:"
   ]
  },
  {
   "cell_type": "code",
   "execution_count": 2,
   "metadata": {},
   "outputs": [
    {
     "name": "stdout",
     "output_type": "stream",
     "text": [
      "<class 'pandas.core.frame.DataFrame'>\n",
      "RangeIndex: 271116 entries, 0 to 271115\n",
      "Data columns (total 15 columns):\n",
      " #   Column  Non-Null Count   Dtype  \n",
      "---  ------  --------------   -----  \n",
      " 0   ID      271116 non-null  int64  \n",
      " 1   Name    271116 non-null  object \n",
      " 2   Sex     271116 non-null  object \n",
      " 3   Age     261642 non-null  float64\n",
      " 4   Height  210945 non-null  float64\n",
      " 5   Weight  208241 non-null  float64\n",
      " 6   Team    271116 non-null  object \n",
      " 7   NOC     271116 non-null  object \n",
      " 8   Games   271116 non-null  object \n",
      " 9   Year    271116 non-null  int64  \n",
      " 10  Season  271116 non-null  object \n",
      " 11  City    271116 non-null  object \n",
      " 12  Sport   271116 non-null  object \n",
      " 13  Event   271116 non-null  object \n",
      " 14  Medal   39783 non-null   object \n",
      "dtypes: float64(3), int64(2), object(10)\n",
      "memory usage: 31.0+ MB\n"
     ]
    },
    {
     "data": {
      "text/html": [
       "<div>\n",
       "<style scoped>\n",
       "    .dataframe tbody tr th:only-of-type {\n",
       "        vertical-align: middle;\n",
       "    }\n",
       "\n",
       "    .dataframe tbody tr th {\n",
       "        vertical-align: top;\n",
       "    }\n",
       "\n",
       "    .dataframe thead th {\n",
       "        text-align: right;\n",
       "    }\n",
       "</style>\n",
       "<table border=\"1\" class=\"dataframe\">\n",
       "  <thead>\n",
       "    <tr style=\"text-align: right;\">\n",
       "      <th></th>\n",
       "      <th>ID</th>\n",
       "      <th>Name</th>\n",
       "      <th>Sex</th>\n",
       "      <th>Age</th>\n",
       "      <th>Height</th>\n",
       "      <th>Weight</th>\n",
       "      <th>Team</th>\n",
       "      <th>NOC</th>\n",
       "      <th>Games</th>\n",
       "      <th>Year</th>\n",
       "      <th>Season</th>\n",
       "      <th>City</th>\n",
       "      <th>Sport</th>\n",
       "      <th>Event</th>\n",
       "      <th>Medal</th>\n",
       "    </tr>\n",
       "  </thead>\n",
       "  <tbody>\n",
       "    <tr>\n",
       "      <th>0</th>\n",
       "      <td>1</td>\n",
       "      <td>A Dijiang</td>\n",
       "      <td>M</td>\n",
       "      <td>24.0</td>\n",
       "      <td>180.0</td>\n",
       "      <td>80.0</td>\n",
       "      <td>China</td>\n",
       "      <td>CHN</td>\n",
       "      <td>1992 Summer</td>\n",
       "      <td>1992</td>\n",
       "      <td>Summer</td>\n",
       "      <td>Barcelona</td>\n",
       "      <td>Basketball</td>\n",
       "      <td>Basketball Men's Basketball</td>\n",
       "      <td>NaN</td>\n",
       "    </tr>\n",
       "    <tr>\n",
       "      <th>1</th>\n",
       "      <td>2</td>\n",
       "      <td>A Lamusi</td>\n",
       "      <td>M</td>\n",
       "      <td>23.0</td>\n",
       "      <td>170.0</td>\n",
       "      <td>60.0</td>\n",
       "      <td>China</td>\n",
       "      <td>CHN</td>\n",
       "      <td>2012 Summer</td>\n",
       "      <td>2012</td>\n",
       "      <td>Summer</td>\n",
       "      <td>London</td>\n",
       "      <td>Judo</td>\n",
       "      <td>Judo Men's Extra-Lightweight</td>\n",
       "      <td>NaN</td>\n",
       "    </tr>\n",
       "    <tr>\n",
       "      <th>2</th>\n",
       "      <td>3</td>\n",
       "      <td>Gunnar Nielsen Aaby</td>\n",
       "      <td>M</td>\n",
       "      <td>24.0</td>\n",
       "      <td>NaN</td>\n",
       "      <td>NaN</td>\n",
       "      <td>Denmark</td>\n",
       "      <td>DEN</td>\n",
       "      <td>1920 Summer</td>\n",
       "      <td>1920</td>\n",
       "      <td>Summer</td>\n",
       "      <td>Antwerpen</td>\n",
       "      <td>Football</td>\n",
       "      <td>Football Men's Football</td>\n",
       "      <td>NaN</td>\n",
       "    </tr>\n",
       "  </tbody>\n",
       "</table>\n",
       "</div>"
      ],
      "text/plain": [
       "   ID                 Name Sex   Age  Height  Weight     Team  NOC  \\\n",
       "0   1            A Dijiang   M  24.0   180.0    80.0    China  CHN   \n",
       "1   2             A Lamusi   M  23.0   170.0    60.0    China  CHN   \n",
       "2   3  Gunnar Nielsen Aaby   M  24.0     NaN     NaN  Denmark  DEN   \n",
       "\n",
       "         Games  Year  Season       City       Sport  \\\n",
       "0  1992 Summer  1992  Summer  Barcelona  Basketball   \n",
       "1  2012 Summer  2012  Summer     London        Judo   \n",
       "2  1920 Summer  1920  Summer  Antwerpen    Football   \n",
       "\n",
       "                          Event Medal  \n",
       "0   Basketball Men's Basketball   NaN  \n",
       "1  Judo Men's Extra-Lightweight   NaN  \n",
       "2       Football Men's Football   NaN  "
      ]
     },
     "execution_count": 2,
     "metadata": {},
     "output_type": "execute_result"
    }
   ],
   "source": [
    "athlete_data.info()\n",
    "athlete_data.head(3)"
   ]
  },
  {
   "cell_type": "markdown",
   "metadata": {},
   "source": [
    "* Seems like there are some missing data with Age, Height and Weight. Ignorable, as the number of missing data is not significant"
   ]
  },
  {
   "cell_type": "code",
   "execution_count": 3,
   "metadata": {},
   "outputs": [
    {
     "name": "stdout",
     "output_type": "stream",
     "text": [
      "<class 'pandas.core.frame.DataFrame'>\n",
      "RangeIndex: 230 entries, 0 to 229\n",
      "Data columns (total 3 columns):\n",
      " #   Column  Non-Null Count  Dtype \n",
      "---  ------  --------------  ----- \n",
      " 0   NOC     230 non-null    object\n",
      " 1   region  227 non-null    object\n",
      " 2   notes   21 non-null     object\n",
      "dtypes: object(3)\n",
      "memory usage: 5.5+ KB\n"
     ]
    },
    {
     "data": {
      "text/html": [
       "<div>\n",
       "<style scoped>\n",
       "    .dataframe tbody tr th:only-of-type {\n",
       "        vertical-align: middle;\n",
       "    }\n",
       "\n",
       "    .dataframe tbody tr th {\n",
       "        vertical-align: top;\n",
       "    }\n",
       "\n",
       "    .dataframe thead th {\n",
       "        text-align: right;\n",
       "    }\n",
       "</style>\n",
       "<table border=\"1\" class=\"dataframe\">\n",
       "  <thead>\n",
       "    <tr style=\"text-align: right;\">\n",
       "      <th></th>\n",
       "      <th>NOC</th>\n",
       "      <th>region</th>\n",
       "      <th>notes</th>\n",
       "    </tr>\n",
       "  </thead>\n",
       "  <tbody>\n",
       "    <tr>\n",
       "      <th>0</th>\n",
       "      <td>AFG</td>\n",
       "      <td>Afghanistan</td>\n",
       "      <td>NaN</td>\n",
       "    </tr>\n",
       "    <tr>\n",
       "      <th>1</th>\n",
       "      <td>AHO</td>\n",
       "      <td>Curacao</td>\n",
       "      <td>Netherlands Antilles</td>\n",
       "    </tr>\n",
       "    <tr>\n",
       "      <th>2</th>\n",
       "      <td>ALB</td>\n",
       "      <td>Albania</td>\n",
       "      <td>NaN</td>\n",
       "    </tr>\n",
       "  </tbody>\n",
       "</table>\n",
       "</div>"
      ],
      "text/plain": [
       "   NOC       region                 notes\n",
       "0  AFG  Afghanistan                   NaN\n",
       "1  AHO      Curacao  Netherlands Antilles\n",
       "2  ALB      Albania                   NaN"
      ]
     },
     "execution_count": 3,
     "metadata": {},
     "output_type": "execute_result"
    }
   ],
   "source": [
    "noc_data.info()\n",
    "noc_data.head(3)"
   ]
  },
  {
   "cell_type": "markdown",
   "metadata": {},
   "source": [
    "* ERD of dataset:"
   ]
  },
  {
   "attachments": {
    "Capture.PNG": {
     "image/png": "[encoded data removed]"
    }
   },
   "cell_type": "markdown",
   "metadata": {},
   "source": [
    "![Capture.PNG](attachment:Capture.PNG)"
   ]
  },
  {
   "cell_type": "markdown",
   "metadata": {},
   "source": [
    "## 2. Proposal\n",
    "* This is project Alma. Objective of this project is to find the insight from 120 years of Olympics data, which could be patterns/trends highlighting certain groups/events/countries, etc. for the purpose of developing a news story or discovering key health insights. Main target audience of this project would be elite personal trainers and news company. Our main tool would be Jupyter notebook.\n",
    "\n",
    "**Hypothesis:**\n",
    "* Hypothesis 1: There is a relationship between athlete's age and the medal they gained. Maybe younger athlete had higher chance of getting prize than those who were older\n",
    "\n",
    "* Hypothesis 2: Some countries have greater advantage than other in specific season, and that's not the same between summer and winter. Maybe countries in colder area around the year would be more comfortable to compete in winter?\n",
    "\n",
    "**Approach:**\n",
    "* Filter the dataset for data needed -> visualize for judgement"
   ]
  },
  {
   "cell_type": "markdown",
   "metadata": {},
   "source": [
    "# Milestone 2: Descriptive Stats"
   ]
  },
  {
   "cell_type": "code",
   "execution_count": 4,
   "metadata": {},
   "outputs": [],
   "source": [
    "#This command will allow us to use SQL command on pandas dataframe\n",
    "from pandasql import sqldf\n",
    "pysqldf = lambda q: sqldf(q,globals())"
   ]
  },
  {
   "cell_type": "markdown",
   "metadata": {},
   "source": [
    "## 1. Checking hypothesis\n",
    "\n",
    "\n",
    "### Hypothesis 1: There is a relationship between athlete's age and the medal they gained. Maybe younger athlete had higher chance of getting prize than those who were older"
   ]
  },
  {
   "cell_type": "code",
   "execution_count": 5,
   "metadata": {},
   "outputs": [
    {
     "data": {
      "image/png": "[encoded data removed]",
      "text/plain": [
       "<Figure size 432x288 with 1 Axes>"
      ]
     },
     "metadata": {
      "needs_background": "light"
     },
     "output_type": "display_data"
    }
   ],
   "source": [
    "#Count the number of medal per age\n",
    "athlete_data_medal_age = pysqldf('SELECT Age, COUNT(Medal)FROM athlete_data WHERE (Medal IS NOT NULL AND Age IS NOT NULL) GROUP BY Age ORDER BY Age')\n",
    "\n",
    "#Visualize the number of medal per age\n",
    "from matplotlib import pyplot as plt\n",
    "\n",
    "\n",
    "hypo1_age = athlete_data_medal_age['Age']\n",
    "hypo1_medal = athlete_data_medal_age['COUNT(Medal)']\n",
    "\n",
    "plt.plot(hypo1_age,hypo1_medal)\n",
    "\n",
    "plt.title('Number of prize gain per age')\n",
    "plt.xlabel('Age')\n",
    "plt.ylabel('Prize count')\n",
    "plt.tight_layout()\n",
    "plt.grid()\n",
    "plt.savefig('abc.png')"
   ]
  },
  {
   "cell_type": "markdown",
   "metadata": {},
   "source": [
    "**Conclusion 1: Yes, there is a relationship between age and probability of gain the prize, as prime age is around 23-24**"
   ]
  },
  {
   "cell_type": "markdown",
   "metadata": {},
   "source": [
    "### Hypothesis 2: Some countries have greater advantage than other in specific season, and that's not the same between summer and winter. Maybe countries in colder area around the year would be more comfortable to compete in winter?"
   ]
  },
  {
   "cell_type": "code",
   "execution_count": 6,
   "metadata": {},
   "outputs": [
    {
     "data": {
      "text/html": [
       "<div>\n",
       "<style scoped>\n",
       "    .dataframe tbody tr th:only-of-type {\n",
       "        vertical-align: middle;\n",
       "    }\n",
       "\n",
       "    .dataframe tbody tr th {\n",
       "        vertical-align: top;\n",
       "    }\n",
       "\n",
       "    .dataframe thead th {\n",
       "        text-align: right;\n",
       "    }\n",
       "</style>\n",
       "<table border=\"1\" class=\"dataframe\">\n",
       "  <thead>\n",
       "    <tr style=\"text-align: right;\">\n",
       "      <th></th>\n",
       "      <th>Team</th>\n",
       "      <th>Summer_medal</th>\n",
       "    </tr>\n",
       "  </thead>\n",
       "  <tbody>\n",
       "    <tr>\n",
       "      <th>0</th>\n",
       "      <td>United States</td>\n",
       "      <td>4686</td>\n",
       "    </tr>\n",
       "    <tr>\n",
       "      <th>1</th>\n",
       "      <td>Soviet Union</td>\n",
       "      <td>2061</td>\n",
       "    </tr>\n",
       "    <tr>\n",
       "      <th>2</th>\n",
       "      <td>Germany</td>\n",
       "      <td>1687</td>\n",
       "    </tr>\n",
       "    <tr>\n",
       "      <th>3</th>\n",
       "      <td>Great Britain</td>\n",
       "      <td>1598</td>\n",
       "    </tr>\n",
       "    <tr>\n",
       "      <th>4</th>\n",
       "      <td>France</td>\n",
       "      <td>1408</td>\n",
       "    </tr>\n",
       "  </tbody>\n",
       "</table>\n",
       "</div>"
      ],
      "text/plain": [
       "            Team  Summer_medal\n",
       "0  United States          4686\n",
       "1   Soviet Union          2061\n",
       "2        Germany          1687\n",
       "3  Great Britain          1598\n",
       "4         France          1408"
      ]
     },
     "execution_count": 6,
     "metadata": {},
     "output_type": "execute_result"
    }
   ],
   "source": [
    "# Summer medal count\n",
    "pysqldf('SELECT Team, COUNT(Medal) AS Summer_medal FROM athlete_data WHERE Season = \"Summer\" GROUP BY Team ORDER BY COUNT(Medal) DESC LIMIT 5')"
   ]
  },
  {
   "cell_type": "code",
   "execution_count": 7,
   "metadata": {},
   "outputs": [
    {
     "data": {
      "text/html": [
       "<div>\n",
       "<style scoped>\n",
       "    .dataframe tbody tr th:only-of-type {\n",
       "        vertical-align: middle;\n",
       "    }\n",
       "\n",
       "    .dataframe tbody tr th {\n",
       "        vertical-align: top;\n",
       "    }\n",
       "\n",
       "    .dataframe thead th {\n",
       "        text-align: right;\n",
       "    }\n",
       "</style>\n",
       "<table border=\"1\" class=\"dataframe\">\n",
       "  <thead>\n",
       "    <tr style=\"text-align: right;\">\n",
       "      <th></th>\n",
       "      <th>Team</th>\n",
       "      <th>Winter_medal</th>\n",
       "    </tr>\n",
       "  </thead>\n",
       "  <tbody>\n",
       "    <tr>\n",
       "      <th>0</th>\n",
       "      <td>Canada</td>\n",
       "      <td>575</td>\n",
       "    </tr>\n",
       "    <tr>\n",
       "      <th>1</th>\n",
       "      <td>United States</td>\n",
       "      <td>533</td>\n",
       "    </tr>\n",
       "    <tr>\n",
       "      <th>2</th>\n",
       "      <td>Norway</td>\n",
       "      <td>443</td>\n",
       "    </tr>\n",
       "    <tr>\n",
       "      <th>3</th>\n",
       "      <td>Sweden</td>\n",
       "      <td>428</td>\n",
       "    </tr>\n",
       "    <tr>\n",
       "      <th>4</th>\n",
       "      <td>Finland</td>\n",
       "      <td>426</td>\n",
       "    </tr>\n",
       "  </tbody>\n",
       "</table>\n",
       "</div>"
      ],
      "text/plain": [
       "            Team  Winter_medal\n",
       "0         Canada           575\n",
       "1  United States           533\n",
       "2         Norway           443\n",
       "3         Sweden           428\n",
       "4        Finland           426"
      ]
     },
     "execution_count": 7,
     "metadata": {},
     "output_type": "execute_result"
    }
   ],
   "source": [
    "#Winter medal count\n",
    "pysqldf('SELECT Team, COUNT(Medal) AS Winter_medal FROM athlete_data WHERE Season = \"Winter\" GROUP BY Team ORDER BY COUNT(Medal) DESC LIMIT 5')"
   ]
  },
  {
   "cell_type": "markdown",
   "metadata": {},
   "source": [
    "**Conclusion 2: Seems like it's true, with top 5 countries in Summer different from those in Winter, except for USA**"
   ]
  },
  {
   "cell_type": "markdown",
   "metadata": {},
   "source": [
    "## 2. Descriptive stats"
   ]
  },
  {
   "cell_type": "code",
   "execution_count": 8,
   "metadata": {
    "scrolled": false
   },
   "outputs": [
    {
     "name": "stdout",
     "output_type": "stream",
     "text": [
      "                   ID                  Name     Sex            Age  \\\n",
      "count   271116.000000                271116  271116  261642.000000   \n",
      "unique            NaN                134732       2            NaN   \n",
      "top               NaN  Robert Tait McKenzie       M            NaN   \n",
      "freq              NaN                    58  196594            NaN   \n",
      "mean     68248.954396                   NaN     NaN      25.556898   \n",
      "std      39022.286345                   NaN     NaN       6.393561   \n",
      "min          1.000000                   NaN     NaN      10.000000   \n",
      "25%      34643.000000                   NaN     NaN      21.000000   \n",
      "50%      68205.000000                   NaN     NaN      24.000000   \n",
      "75%     102097.250000                   NaN     NaN      28.000000   \n",
      "max     135571.000000                   NaN     NaN      97.000000   \n",
      "\n",
      "               Height         Weight           Team     NOC        Games  \\\n",
      "count   210945.000000  208241.000000         271116  271116       271116   \n",
      "unique            NaN            NaN           1184     230           51   \n",
      "top               NaN            NaN  United States     USA  2000 Summer   \n",
      "freq              NaN            NaN          17847   18853        13821   \n",
      "mean       175.338970      70.702393            NaN     NaN          NaN   \n",
      "std         10.518462      14.348020            NaN     NaN          NaN   \n",
      "min        127.000000      25.000000            NaN     NaN          NaN   \n",
      "25%        168.000000      60.000000            NaN     NaN          NaN   \n",
      "50%        175.000000      70.000000            NaN     NaN          NaN   \n",
      "75%        183.000000      79.000000            NaN     NaN          NaN   \n",
      "max        226.000000     214.000000            NaN     NaN          NaN   \n",
      "\n",
      "                 Year  Season    City      Sport                    Event  \\\n",
      "count   271116.000000  271116  271116     271116                   271116   \n",
      "unique            NaN       2      42         66                      765   \n",
      "top               NaN  Summer  London  Athletics  Football Men's Football   \n",
      "freq              NaN  222552   22426      38624                     5733   \n",
      "mean      1978.378480     NaN     NaN        NaN                      NaN   \n",
      "std         29.877632     NaN     NaN        NaN                      NaN   \n",
      "min       1896.000000     NaN     NaN        NaN                      NaN   \n",
      "25%       1960.000000     NaN     NaN        NaN                      NaN   \n",
      "50%       1988.000000     NaN     NaN        NaN                      NaN   \n",
      "75%       2002.000000     NaN     NaN        NaN                      NaN   \n",
      "max       2016.000000     NaN     NaN        NaN                      NaN   \n",
      "\n",
      "        Medal  \n",
      "count   39783  \n",
      "unique      3  \n",
      "top      Gold  \n",
      "freq    13372  \n",
      "mean      NaN  \n",
      "std       NaN  \n",
      "min       NaN  \n",
      "25%       NaN  \n",
      "50%       NaN  \n",
      "75%       NaN  \n",
      "max       NaN  \n"
     ]
    }
   ],
   "source": [
    "print(athlete_data.describe(include='all'))"
   ]
  },
  {
   "cell_type": "markdown",
   "metadata": {},
   "source": [
    "## 3. Further question\n",
    "* Does BMI index affect the chance of gaining higher prize?"
   ]
  },
  {
   "cell_type": "markdown",
   "metadata": {},
   "source": [
    "# Milestone 3: Beyond Descriptive Stats\n",
    "\n",
    "* In order to answer the above question related to BMI index, we need to create 2 new metric: BMI and medal in number (gold/silver/bronze as 3/2/1) "
   ]
  },
  {
   "cell_type": "code",
   "execution_count": 9,
   "metadata": {
    "scrolled": true
   },
   "outputs": [],
   "source": [
    "#Create a new metric - BMI and turn medal from gold/silver/bronze to 3/2/1\n",
    "athlete_data_BMI_medal = pysqldf('SELECT Weight/Height/Height*10000 AS  BMI_index, CASE WHEN Medal = \"Gold\" THEN 3 WHEN Medal = \"Silver\" THEN 2 WHEN Medal = \"Bronze\" THEN 1 END prize_num FROM athlete_data WHERE (Medal IS NOT NULL AND Weight IS NOT NULL AND Height IS NOT NULL) ORDER BY Weight/Height/Height ASC')\n",
    "athlete_data_BMI_medal_round = pysqldf('SELECT ROUND(BMI_index,0) AS BMI, COUNT(prize_num) AS prize_count, AVG(prize_num) as prize_avg FROM athlete_data_BMI_medal GROUP BY ROUND(BMI_index,0) ORDER BY ROUND(BMI_index,0) ASC')"
   ]
  },
  {
   "cell_type": "code",
   "execution_count": 10,
   "metadata": {
    "scrolled": true
   },
   "outputs": [
    {
     "data": {
      "image/png": "[encoded data removed]",
      "text/plain": [
       "<Figure size 432x288 with 2 Axes>"
      ]
     },
     "metadata": {
      "needs_background": "light"
     },
     "output_type": "display_data"
    }
   ],
   "source": [
    "bmi = athlete_data_BMI_medal_round['BMI']\n",
    "prize_count = athlete_data_BMI_medal_round['prize_count']\n",
    "prize_avg = athlete_data_BMI_medal_round['prize_avg']\n",
    "\n",
    "plt.bar(bmi,prize_count,color='Green',log=True)\n",
    "plt.xlabel('BMI')\n",
    "plt.ylabel('Medal count',color = 'Green')\n",
    "plt.tick_params(axis='y', labelcolor='Green')\n",
    "plt.grid()\n",
    "\n",
    "plt2 = plt.twinx()\n",
    "plt2.plot(bmi,prize_avg,color='Blue')\n",
    "plt2.set_ylabel('Average medal',color='Blue')\n",
    "plt2.tick_params(axis='y', labelcolor='Blue')\n",
    "\n",
    "plt.savefig('123.png')"
   ]
  },
  {
   "cell_type": "markdown",
   "metadata": {},
   "source": [
    "* As we can see, there are no specific relationship between BMI and medal gained. However, we can see that the prime BMI for athlete would be around 20 - 22, where they would gain the highest number of medal"
   ]
  }
 ],
 "metadata": {
  "kernelspec": {
   "display_name": "Python 3",
   "language": "python",
   "name": "python3"
  },
  "language_info": {
   "codemirror_mode": {
    "name": "ipython",
    "version": 3
   },
   "file_extension": ".py",
   "mimetype": "text/x-python",
   "name": "python",
   "nbconvert_exporter": "python",
   "pygments_lexer": "ipython3",
   "version": "3.7.6"
  }
 },
 "nbformat": 4,
 "nbformat_minor": 4
}
